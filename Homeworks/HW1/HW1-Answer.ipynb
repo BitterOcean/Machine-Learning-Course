{
 "cells": [
  {
   "cell_type": "code",
   "execution_count": 0,
   "metadata": {
    "colab": {},
    "colab_type": "code",
    "id": "fg3SUJrNPsph"
   },
   "outputs": [],
   "source": [
    "import pandas as pd\n",
    "import numpy as np\n",
    "import matplotlib.pyplot as plt"
   ]
  },
  {
   "cell_type": "code",
   "execution_count": null,
   "metadata": {},
   "outputs": [],
   "source": [
    "path = 'path-to-dataset'"
   ]
  },
  {
   "cell_type": "code",
   "execution_count": 0,
   "metadata": {
    "colab": {},
    "colab_type": "code",
    "id": "qd2MQuRbRG7W"
   },
   "outputs": [],
   "source": [
    "data = pd.read_csv(path)"
   ]
  },
  {
   "cell_type": "markdown",
   "metadata": {
    "colab_type": "text",
    "id": "4WYZko5iZobW"
   },
   "source": [
    " **Question 1 **"
   ]
  },
  {
   "cell_type": "code",
   "execution_count": 0,
   "metadata": {
    "colab": {
     "base_uri": "https://localhost:8080/",
     "height": 1071
    },
    "colab_type": "code",
    "id": "lGs2zBs1RxEW",
    "outputId": "8f0a9289-6fc4-46d1-aa9e-a5dbb8165d18"
   },
   "outputs": [
    {
     "data": {
      "text/plain": [
       "Saturday 12PM     8704\n",
       "Friday 04PM       8694\n",
       "Friday 11AM       8673\n",
       "Saturday 11AM     8650\n",
       "Saturday 06PM     8531\n",
       "Saturday 07PM     8529\n",
       "Friday 12PM       8516\n",
       "Saturday 03PM     8473\n",
       "Saturday 01PM     8457\n",
       "Friday 06PM       8453\n",
       "Saturday 04PM     8446\n",
       "Friday 03PM       8429\n",
       "Friday 01PM       8425\n",
       "Saturday 10AM     8409\n",
       "Sunday 04PM       8266\n",
       "Saturday 02PM     8254\n",
       "Friday 05PM       8252\n",
       "Saturday 05PM     8251\n",
       "Friday 02PM       8249\n",
       "Friday 10AM       8247\n",
       "Thursday 11AM     8209\n",
       "Thursday 10AM     8189\n",
       "Sunday 01PM       8183\n",
       "Sunday 11AM       8169\n",
       "Sunday 12PM       8155\n",
       "Thursday 12PM     8125\n",
       "Saturday 09AM     8119\n",
       "Sunday 05PM       8114\n",
       "Sunday 10AM       8076\n",
       "Tuesday 11AM      8074\n",
       "                  ... \n",
       "Monday 12AM       2236\n",
       "Friday 05AM       2148\n",
       "Sunday 04AM       2129\n",
       "Tuesday 04AM      2101\n",
       "Wednesday 04AM    2100\n",
       "Saturday 04AM     2074\n",
       "Monday 04AM       2030\n",
       "Thursday 04AM     1805\n",
       "Friday 01AM       1630\n",
       "Saturday 01AM     1623\n",
       "Sunday 01AM       1617\n",
       "Tuesday 01AM      1572\n",
       "Wednesday 01AM    1538\n",
       "Thursday 01AM     1502\n",
       "Monday 01AM       1401\n",
       "Saturday 03AM     1377\n",
       "Wednesday 03AM    1362\n",
       "Sunday 03AM       1357\n",
       "Friday 04AM       1292\n",
       "Tuesday 03AM      1280\n",
       "Monday 03AM       1252\n",
       "Thursday 03AM     1173\n",
       "Saturday 02AM     1161\n",
       "Sunday 02AM       1125\n",
       "Thursday 02AM     1086\n",
       "Wednesday 02AM    1063\n",
       "Friday 02AM       1050\n",
       "Tuesday 02AM      1040\n",
       "Monday 02AM       1022\n",
       "Friday 03AM        983\n",
       "Name: created_at, Length: 168, dtype: int64"
      ]
     },
     "execution_count": 21,
     "metadata": {
      "tags": []
     },
     "output_type": "execute_result"
    }
   ],
   "source": [
    "data['created_at'].value_counts().sort_values(ascending=False)"
   ]
  },
  {
   "cell_type": "markdown",
   "metadata": {
    "colab_type": "text",
    "id": "zoKICpMvZ1z2"
   },
   "source": [
    "**Question 2**"
   ]
  },
  {
   "cell_type": "code",
   "execution_count": 0,
   "metadata": {
    "colab": {
     "base_uri": "https://localhost:8080/",
     "height": 364
    },
    "colab_type": "code",
    "id": "SDQDLgiJTwtr",
    "outputId": "87d4a3b6-0ffd-4df9-9a73-da9ae5c84ad4"
   },
   "outputs": [
    {
     "data": {
      "text/plain": [
       "<BarContainer object of 7 artists>"
      ]
     },
     "execution_count": 43,
     "metadata": {
      "tags": []
     },
     "output_type": "execute_result"
    },
    {
     "data": {
      "image/png": "[encoded data removed]",
      "text/plain": [
       "<Figure size 576x396 with 1 Axes>"
      ]
     },
     "metadata": {
      "tags": []
     },
     "output_type": "display_data"
    }
   ],
   "source": [
    "post_freq = data['created_at'].str.split(expand=True)[0].value_counts()\n",
    "plt.bar(post_freq.index, post_freq.values)"
   ]
  },
  {
   "cell_type": "markdown",
   "metadata": {
    "colab_type": "text",
    "id": "9INah5atZ91I"
   },
   "source": [
    "**Question 3**"
   ]
  },
  {
   "cell_type": "code",
   "execution_count": 0,
   "metadata": {
    "colab": {
     "base_uri": "https://localhost:8080/",
     "height": 34
    },
    "colab_type": "code",
    "id": "alwS23gcbSIc",
    "outputId": "3c7e7d33-855c-46c8-dc6a-de3b6aae75ad"
   },
   "outputs": [
    {
     "data": {
      "text/plain": [
       "True"
      ]
     },
     "execution_count": 5,
     "metadata": {
      "tags": []
     },
     "output_type": "execute_result"
    }
   ],
   "source": [
    "data['city'].astype(str)[0] == 'Tehran'"
   ]
  },
  {
   "cell_type": "code",
   "execution_count": 0,
   "metadata": {
    "colab": {},
    "colab_type": "code",
    "id": "rQtMNw0XZ_UP"
   },
   "outputs": [],
   "source": [
    "query = data[(data['cat3'] == 'antiques-and-art') & (data['city'] == 'Isfahan')]"
   ]
  },
  {
   "cell_type": "code",
   "execution_count": 0,
   "metadata": {
    "colab": {
     "base_uri": "https://localhost:8080/",
     "height": 684
    },
    "colab_type": "code",
    "id": "0DyVhcgM1kVd",
    "outputId": "d1a8ea48-3d1a-441d-8eaf-1270c7e0638f"
   },
   "outputs": [
    {
     "data": {
      "text/html": [
       "<div>\n",
       "<style scoped>\n",
       "    .dataframe tbody tr th:only-of-type {\n",
       "        vertical-align: middle;\n",
       "    }\n",
       "\n",
       "    .dataframe tbody tr th {\n",
       "        vertical-align: top;\n",
       "    }\n",
       "\n",
       "    .dataframe thead th {\n",
       "        text-align: right;\n",
       "    }\n",
       "</style>\n",
       "<table border=\"1\" class=\"dataframe\">\n",
       "  <thead>\n",
       "    <tr style=\"text-align: right;\">\n",
       "      <th></th>\n",
       "      <th>Unnamed: 0</th>\n",
       "      <th>archive_by_user</th>\n",
       "      <th>brand</th>\n",
       "      <th>cat1</th>\n",
       "      <th>cat2</th>\n",
       "      <th>cat3</th>\n",
       "      <th>city</th>\n",
       "      <th>created_at</th>\n",
       "      <th>desc</th>\n",
       "      <th>id</th>\n",
       "      <th>image_count</th>\n",
       "      <th>mileage</th>\n",
       "      <th>platform</th>\n",
       "      <th>price</th>\n",
       "      <th>title</th>\n",
       "      <th>type</th>\n",
       "      <th>year</th>\n",
       "    </tr>\n",
       "  </thead>\n",
       "  <tbody>\n",
       "    <tr>\n",
       "      <th>1431</th>\n",
       "      <td>1431</td>\n",
       "      <td>True</td>\n",
       "      <td>NaN</td>\n",
       "      <td>for-the-home</td>\n",
       "      <td>furniture-and-home-decore</td>\n",
       "      <td>antiques-and-art</td>\n",
       "      <td>Isfahan</td>\n",
       "      <td>Tuesday 07PM</td>\n",
       "      <td>در حد نو وتمیز</td>\n",
       "      <td>57132537485545</td>\n",
       "      <td>1</td>\n",
       "      <td>NaN</td>\n",
       "      <td>mobile</td>\n",
       "      <td>130000</td>\n",
       "      <td>ساعت شیک</td>\n",
       "      <td>NaN</td>\n",
       "      <td>NaN</td>\n",
       "    </tr>\n",
       "    <tr>\n",
       "      <th>1724</th>\n",
       "      <td>1724</td>\n",
       "      <td>False</td>\n",
       "      <td>NaN</td>\n",
       "      <td>for-the-home</td>\n",
       "      <td>furniture-and-home-decore</td>\n",
       "      <td>antiques-and-art</td>\n",
       "      <td>Isfahan</td>\n",
       "      <td>Monday 05PM</td>\n",
       "      <td>انواع آینه و شمعدون\\nانواع گل و گلدان \\nانواع ...</td>\n",
       "      <td>28188470920050</td>\n",
       "      <td>2</td>\n",
       "      <td>NaN</td>\n",
       "      <td>mobile</td>\n",
       "      <td>-1</td>\n",
       "      <td>صنایع دستی ملیله</td>\n",
       "      <td>NaN</td>\n",
       "      <td>NaN</td>\n",
       "    </tr>\n",
       "    <tr>\n",
       "      <th>4875</th>\n",
       "      <td>4875</td>\n",
       "      <td>False</td>\n",
       "      <td>NaN</td>\n",
       "      <td>for-the-home</td>\n",
       "      <td>furniture-and-home-decore</td>\n",
       "      <td>antiques-and-art</td>\n",
       "      <td>Isfahan</td>\n",
       "      <td>Wednesday 10PM</td>\n",
       "      <td>فروش و قبول سفارش عروسک \"فندق\"با هر رنگ و هر ا...</td>\n",
       "      <td>13479448078645</td>\n",
       "      <td>1</td>\n",
       "      <td>NaN</td>\n",
       "      <td>mobile</td>\n",
       "      <td>-1</td>\n",
       "      <td>فندق دوست داشتنی</td>\n",
       "      <td>NaN</td>\n",
       "      <td>NaN</td>\n",
       "    </tr>\n",
       "    <tr>\n",
       "      <th>5204</th>\n",
       "      <td>5204</td>\n",
       "      <td>False</td>\n",
       "      <td>NaN</td>\n",
       "      <td>for-the-home</td>\n",
       "      <td>furniture-and-home-decore</td>\n",
       "      <td>antiques-and-art</td>\n",
       "      <td>Isfahan</td>\n",
       "      <td>Tuesday 12AM</td>\n",
       "      <td>گلدون بلند نقاشی بادست که دیگه اصلانیس این مدل...</td>\n",
       "      <td>61129205427787</td>\n",
       "      <td>2</td>\n",
       "      <td>NaN</td>\n",
       "      <td>mobile</td>\n",
       "      <td>100000</td>\n",
       "      <td>1جفت گلدون</td>\n",
       "      <td>NaN</td>\n",
       "      <td>NaN</td>\n",
       "    </tr>\n",
       "    <tr>\n",
       "      <th>6462</th>\n",
       "      <td>6462</td>\n",
       "      <td>True</td>\n",
       "      <td>NaN</td>\n",
       "      <td>for-the-home</td>\n",
       "      <td>furniture-and-home-decore</td>\n",
       "      <td>antiques-and-art</td>\n",
       "      <td>Isfahan</td>\n",
       "      <td>Saturday 10PM</td>\n",
       "      <td>دو عدد مجسمه از جنس سرامیک به طول ١متر هر دو ب...</td>\n",
       "      <td>12285899550096</td>\n",
       "      <td>2</td>\n",
       "      <td>NaN</td>\n",
       "      <td>mobile</td>\n",
       "      <td>300000</td>\n",
       "      <td>دو عدد مجسمه قدی</td>\n",
       "      <td>NaN</td>\n",
       "      <td>NaN</td>\n",
       "    </tr>\n",
       "  </tbody>\n",
       "</table>\n",
       "</div>"
      ],
      "text/plain": [
       "      Unnamed: 0  archive_by_user brand          cat1  \\\n",
       "1431        1431             True   NaN  for-the-home   \n",
       "1724        1724            False   NaN  for-the-home   \n",
       "4875        4875            False   NaN  for-the-home   \n",
       "5204        5204            False   NaN  for-the-home   \n",
       "6462        6462             True   NaN  for-the-home   \n",
       "\n",
       "                           cat2              cat3     city      created_at  \\\n",
       "1431  furniture-and-home-decore  antiques-and-art  Isfahan    Tuesday 07PM   \n",
       "1724  furniture-and-home-decore  antiques-and-art  Isfahan     Monday 05PM   \n",
       "4875  furniture-and-home-decore  antiques-and-art  Isfahan  Wednesday 10PM   \n",
       "5204  furniture-and-home-decore  antiques-and-art  Isfahan    Tuesday 12AM   \n",
       "6462  furniture-and-home-decore  antiques-and-art  Isfahan   Saturday 10PM   \n",
       "\n",
       "                                                   desc              id  \\\n",
       "1431                                     در حد نو وتمیز  57132537485545   \n",
       "1724  انواع آینه و شمعدون\\nانواع گل و گلدان \\nانواع ...  28188470920050   \n",
       "4875  فروش و قبول سفارش عروسک \"فندق\"با هر رنگ و هر ا...  13479448078645   \n",
       "5204  گلدون بلند نقاشی بادست که دیگه اصلانیس این مدل...  61129205427787   \n",
       "6462  دو عدد مجسمه از جنس سرامیک به طول ١متر هر دو ب...  12285899550096   \n",
       "\n",
       "      image_count  mileage platform   price             title type year  \n",
       "1431            1      NaN   mobile  130000          ساعت شیک  NaN  NaN  \n",
       "1724            2      NaN   mobile      -1  صنایع دستی ملیله  NaN  NaN  \n",
       "4875            1      NaN   mobile      -1  فندق دوست داشتنی  NaN  NaN  \n",
       "5204            2      NaN   mobile  100000        1جفت گلدون  NaN  NaN  \n",
       "6462            2      NaN   mobile  300000  دو عدد مجسمه قدی  NaN  NaN  "
      ]
     },
     "execution_count": 7,
     "metadata": {
      "tags": []
     },
     "output_type": "execute_result"
    }
   ],
   "source": [
    "query.head()"
   ]
  },
  {
   "cell_type": "code",
   "execution_count": 0,
   "metadata": {
    "colab": {
     "base_uri": "https://localhost:8080/",
     "height": 51
    },
    "colab_type": "code",
    "id": "mF5BoY1aaps4",
    "outputId": "1b48bee2-ad7e-4565-dc93-c55805527d64"
   },
   "outputs": [
    {
     "name": "stdout",
     "output_type": "stream",
     "text": [
      "number of ads :  1390\n",
      "avg price :  147693.6582733813\n"
     ]
    }
   ],
   "source": [
    "print('number of ads : ', len(query))\n",
    "print('avg price : ', query['price'].mean())"
   ]
  },
  {
   "cell_type": "markdown",
   "metadata": {
    "colab_type": "text",
    "id": "ncKYn0ueeSyY"
   },
   "source": [
    "**Question 4**"
   ]
  },
  {
   "cell_type": "code",
   "execution_count": 0,
   "metadata": {
    "colab": {
     "base_uri": "https://localhost:8080/",
     "height": 510
    },
    "colab_type": "code",
    "id": "MbTpNVIneC7d",
    "outputId": "1399f043-cdd2-4411-a613-d730e73b02bc"
   },
   "outputs": [
    {
     "data": {
      "text/plain": [
       "cat1                cat2                         \n",
       "businesses          batch                            1.225206e+04\n",
       "leisure-hobbies     book-student-literature          2.133647e+04\n",
       "personal            childrens-clothing-and-shoe      2.875911e+04\n",
       "                    clothing-and-shoes               7.835704e+04\n",
       "                    health-beauty                    8.866216e+04\n",
       "electronic-devices  phone                            9.598747e+04\n",
       "leisure-hobbies     animals                          1.089652e+05\n",
       "personal            baby-and-toys                    1.540173e+05\n",
       "vehicles            parts-accessories                1.919857e+05\n",
       "electronic-devices  game-consoles-and-video-games    2.070968e+05\n",
       "for-the-home        utility                          2.263267e+05\n",
       "                    building-and-garden              2.362410e+05\n",
       "leisure-hobbies     hobby-collectibles               2.387931e+05\n",
       "personal            jewelry-and-watches              2.441555e+05\n",
       "leisure-hobbies     travel-packages                  2.861335e+05\n",
       "                    leisure-hobbies-toys             2.866679e+05\n",
       "for-the-home        utensils-and-appliances          2.915051e+05\n",
       "leisure-hobbies     bicycle                          3.287064e+05\n",
       "electronic-devices  computers                        3.420247e+05\n",
       "                    audio-video                      3.598629e+05\n",
       "leisure-hobbies     sport-leisure                    3.979497e+05\n",
       "for-the-home        furniture-and-home-decore        4.330659e+05\n",
       "electronic-devices  mobile-tablet                    5.357658e+05\n",
       "businesses          equipments-and-machinery         9.042469e+05\n",
       "leisure-hobbies     musical-instruments              9.251785e+05\n",
       "vehicles            motorcycles                      2.580681e+06\n",
       "                    cars                             2.224718e+07\n",
       "Name: price, dtype: float64"
      ]
     },
     "execution_count": 75,
     "metadata": {
      "tags": []
     },
     "output_type": "execute_result"
    }
   ],
   "source": [
    "data.groupby(['cat1', 'cat2'])['price'].mean().sort_values()"
   ]
  },
  {
   "cell_type": "markdown",
   "metadata": {
    "colab_type": "text",
    "id": "bgVXTAdufsN4"
   },
   "source": [
    "**Question 5**"
   ]
  },
  {
   "cell_type": "code",
   "execution_count": 0,
   "metadata": {
    "colab": {
     "base_uri": "https://localhost:8080/",
     "height": 449
    },
    "colab_type": "code",
    "id": "iHlCFfkueeRv",
    "outputId": "71cca70e-edbf-45fd-f0b7-5f2210904528"
   },
   "outputs": [
    {
     "data": {
      "image/png": "[encoded data removed]",
      "text/plain": [
       "<Figure size 576x396 with 1 Axes>"
      ]
     },
     "metadata": {
      "tags": []
     },
     "output_type": "display_data"
    }
   ],
   "source": [
    "phones = data[data['cat3'] == 'mobile-phones']\n",
    "mean = phones.groupby(['brand'])['price'].mean() \n",
    "plt.bar(mean.index, mean.values)\n",
    "plt.xticks(rotation=90)\n",
    "plt.show()"
   ]
  },
  {
   "cell_type": "code",
   "execution_count": 0,
   "metadata": {
    "colab": {},
    "colab_type": "code",
    "id": "yc41CsYJnrqf"
   },
   "outputs": [],
   "source": []
  }
 ],
 "metadata": {
  "colab": {
   "name": "HW1.ipynb",
   "provenance": [],
   "version": "0.3.2"
  },
  "kernelspec": {
   "display_name": "Python 3",
   "language": "python",
   "name": "python3"
  },
  "language_info": {
   "codemirror_mode": {
    "name": "ipython",
    "version": 3
   },
   "file_extension": ".py",
   "mimetype": "text/x-python",
   "name": "python",
   "nbconvert_exporter": "python",
   "pygments_lexer": "ipython3",
   "version": "3.6.7"
  }
 },
 "nbformat": 4,
 "nbformat_minor": 1
}
