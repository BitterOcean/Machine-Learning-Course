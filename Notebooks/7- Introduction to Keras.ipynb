{
 "cells": [
  {
   "cell_type": "markdown",
   "metadata": {},
   "source": [
    "# Keras\n",
    "[Keras](keras.io) is a high-level neural networks API, written in Python and capable of running on top of TensorFlow, CNTK, or Theano."
   ]
  },
  {
   "cell_type": "markdown",
   "metadata": {},
   "source": [
    "![keras](image/keras.png)"
   ]
  },
  {
   "cell_type": "markdown",
   "metadata": {},
   "source": [
    "\n",
    "There are two main types of models available in Keras: [the Sequential model](https://keras.io/models/sequential), and [the Model class used with the functional API](https://keras.io/models/model).\n",
    "\n",
    "\n",
    "These models have a number of methods and attributes in common:\n",
    "\n",
    "- **model.layers** is a flattened list of the layers comprising the model.\n",
    "- **model.inputs** is the list of input tensors of the model.\n",
    "- **model.outputs** is the list of output tensors of the model.\n",
    "- **model.summary()** prints a summary representation of your model. "
   ]
  },
  {
   "cell_type": "markdown",
   "metadata": {},
   "source": [
    "### Installation\n",
    "```bash\n",
    "pip install keras\n",
    "```"
   ]
  },
  {
   "cell_type": "code",
   "execution_count": 1,
   "metadata": {},
   "outputs": [
    {
     "name": "stderr",
     "output_type": "stream",
     "text": [
      "Using TensorFlow backend.\n",
      "/usr/lib/python3/dist-packages/requests/__init__.py:80: RequestsDependencyWarning: urllib3 (1.23) or chardet (3.0.4) doesn't match a supported version!\n",
      "  RequestsDependencyWarning)\n"
     ]
    }
   ],
   "source": [
    "from keras.models import Sequential\n",
    "from keras.layers import Dense\n",
    "import numpy\n",
    "# fix random seed for reproducibility\n",
    "numpy.random.seed(7)"
   ]
  },
  {
   "cell_type": "code",
   "execution_count": 2,
   "metadata": {},
   "outputs": [],
   "source": [
    "import pandas as pd"
   ]
  },
  {
   "cell_type": "code",
   "execution_count": 3,
   "metadata": {},
   "outputs": [],
   "source": [
    "dataset = numpy.loadtxt(\"pima-indians-diabetes.data.csv\", delimiter=\",\")"
   ]
  },
  {
   "cell_type": "code",
   "execution_count": 4,
   "metadata": {},
   "outputs": [],
   "source": [
    "X = dataset[:,0:8]\n",
    "Y = dataset[:,8]"
   ]
  },
  {
   "cell_type": "code",
   "execution_count": 5,
   "metadata": {},
   "outputs": [],
   "source": [
    "#X"
   ]
  },
  {
   "cell_type": "code",
   "execution_count": 6,
   "metadata": {},
   "outputs": [],
   "source": [
    "#Y"
   ]
  },
  {
   "cell_type": "code",
   "execution_count": 5,
   "metadata": {},
   "outputs": [],
   "source": [
    "# create model\n",
    "model = Sequential()\n",
    "model.add(Dense(16, activation='tanh'))\n",
    "model.add(Dense(8, activation='tanh'))\n",
    "model.add(Dense(4, activation='tanh'))\n",
    "model.add(Dense(2, activation='tanh'))\n",
    "model.add(Dense(1, activation='sigmoid'))"
   ]
  },
  {
   "cell_type": "code",
   "execution_count": 6,
   "metadata": {},
   "outputs": [],
   "source": [
    "model.compile(loss='binary_crossentropy', optimizer='adam', metrics=['accuracy'])"
   ]
  },
  {
   "cell_type": "code",
   "execution_count": 7,
   "metadata": {},
   "outputs": [
    {
     "name": "stdout",
     "output_type": "stream",
     "text": [
      "Epoch 1/150\n",
      "768/768 [==============================] - 1s 856us/step - loss: 0.6413 - acc: 0.6484\n",
      "Epoch 2/150\n",
      "768/768 [==============================] - 0s 121us/step - loss: 0.6326 - acc: 0.6458\n",
      "Epoch 3/150\n",
      "768/768 [==============================] - 0s 108us/step - loss: 0.6281 - acc: 0.6484\n",
      "Epoch 4/150\n",
      "768/768 [==============================] - 0s 115us/step - loss: 0.6251 - acc: 0.6523\n",
      "Epoch 5/150\n",
      "768/768 [==============================] - 0s 107us/step - loss: 0.6215 - acc: 0.6602\n",
      "Epoch 6/150\n",
      "768/768 [==============================] - 0s 110us/step - loss: 0.6179 - acc: 0.6563\n",
      "Epoch 7/150\n",
      "768/768 [==============================] - 0s 89us/step - loss: 0.6119 - acc: 0.6576\n",
      "Epoch 8/150\n",
      "768/768 [==============================] - 0s 103us/step - loss: 0.6091 - acc: 0.6589\n",
      "Epoch 9/150\n",
      "768/768 [==============================] - 0s 139us/step - loss: 0.6041 - acc: 0.6549\n",
      "Epoch 10/150\n",
      "768/768 [==============================] - 0s 113us/step - loss: 0.5979 - acc: 0.6667\n",
      "Epoch 11/150\n",
      "768/768 [==============================] - 0s 110us/step - loss: 0.5933 - acc: 0.6849\n",
      "Epoch 12/150\n",
      "768/768 [==============================] - 0s 114us/step - loss: 0.6025 - acc: 0.6589\n",
      "Epoch 13/150\n",
      "768/768 [==============================] - 0s 117us/step - loss: 0.5981 - acc: 0.6667\n",
      "Epoch 14/150\n",
      "768/768 [==============================] - 0s 115us/step - loss: 0.5977 - acc: 0.6563\n",
      "Epoch 15/150\n",
      "768/768 [==============================] - 0s 110us/step - loss: 0.5945 - acc: 0.6667\n",
      "Epoch 16/150\n",
      "768/768 [==============================] - 0s 109us/step - loss: 0.5924 - acc: 0.6549\n",
      "Epoch 17/150\n",
      "768/768 [==============================] - 0s 111us/step - loss: 0.5862 - acc: 0.6667\n",
      "Epoch 18/150\n",
      "768/768 [==============================] - 0s 110us/step - loss: 0.5854 - acc: 0.6693\n",
      "Epoch 19/150\n",
      "768/768 [==============================] - 0s 112us/step - loss: 0.5850 - acc: 0.6589\n",
      "Epoch 20/150\n",
      "768/768 [==============================] - 0s 107us/step - loss: 0.5826 - acc: 0.6615\n",
      "Epoch 21/150\n",
      "768/768 [==============================] - 0s 106us/step - loss: 0.5896 - acc: 0.6628\n",
      "Epoch 22/150\n",
      "768/768 [==============================] - 0s 110us/step - loss: 0.5874 - acc: 0.6602\n",
      "Epoch 23/150\n",
      "768/768 [==============================] - 0s 119us/step - loss: 0.5848 - acc: 0.6628\n",
      "Epoch 24/150\n",
      "768/768 [==============================] - 0s 112us/step - loss: 0.5778 - acc: 0.6693\n",
      "Epoch 25/150\n",
      "768/768 [==============================] - 0s 103us/step - loss: 0.5767 - acc: 0.6758\n",
      "Epoch 26/150\n",
      "768/768 [==============================] - 0s 114us/step - loss: 0.5688 - acc: 0.6745\n",
      "Epoch 27/150\n",
      "768/768 [==============================] - 0s 109us/step - loss: 0.5706 - acc: 0.6693\n",
      "Epoch 28/150\n",
      "768/768 [==============================] - 0s 113us/step - loss: 0.5733 - acc: 0.6797\n",
      "Epoch 29/150\n",
      "768/768 [==============================] - 0s 101us/step - loss: 0.5802 - acc: 0.6406\n",
      "Epoch 30/150\n",
      "768/768 [==============================] - 0s 109us/step - loss: 0.5713 - acc: 0.6680\n",
      "Epoch 31/150\n",
      "768/768 [==============================] - 0s 107us/step - loss: 0.5720 - acc: 0.6641\n",
      "Epoch 32/150\n",
      "768/768 [==============================] - 0s 116us/step - loss: 0.5671 - acc: 0.6758\n",
      "Epoch 33/150\n",
      "768/768 [==============================] - 0s 115us/step - loss: 0.5691 - acc: 0.6875\n",
      "Epoch 34/150\n",
      "768/768 [==============================] - 0s 110us/step - loss: 0.5680 - acc: 0.6745\n",
      "Epoch 35/150\n",
      "768/768 [==============================] - 0s 109us/step - loss: 0.5646 - acc: 0.6862\n",
      "Epoch 36/150\n",
      "768/768 [==============================] - 0s 112us/step - loss: 0.5641 - acc: 0.6823\n",
      "Epoch 37/150\n",
      "768/768 [==============================] - 0s 111us/step - loss: 0.5606 - acc: 0.6849\n",
      "Epoch 38/150\n",
      "768/768 [==============================] - 0s 108us/step - loss: 0.5676 - acc: 0.6628\n",
      "Epoch 39/150\n",
      "768/768 [==============================] - 0s 112us/step - loss: 0.5664 - acc: 0.6693\n",
      "Epoch 40/150\n",
      "768/768 [==============================] - 0s 120us/step - loss: 0.5645 - acc: 0.6914\n",
      "Epoch 41/150\n",
      "768/768 [==============================] - 0s 106us/step - loss: 0.5647 - acc: 0.6784\n",
      "Epoch 42/150\n",
      "768/768 [==============================] - 0s 118us/step - loss: 0.5624 - acc: 0.6797\n",
      "Epoch 43/150\n",
      "768/768 [==============================] - 0s 112us/step - loss: 0.5620 - acc: 0.6732\n",
      "Epoch 44/150\n",
      "768/768 [==============================] - 0s 115us/step - loss: 0.5670 - acc: 0.6849\n",
      "Epoch 45/150\n",
      "768/768 [==============================] - 0s 102us/step - loss: 0.5628 - acc: 0.6732\n",
      "Epoch 46/150\n",
      "768/768 [==============================] - 0s 110us/step - loss: 0.5623 - acc: 0.6888\n",
      "Epoch 47/150\n",
      "768/768 [==============================] - 0s 110us/step - loss: 0.5600 - acc: 0.6849\n",
      "Epoch 48/150\n",
      "768/768 [==============================] - 0s 107us/step - loss: 0.5576 - acc: 0.6901\n",
      "Epoch 49/150\n",
      "768/768 [==============================] - 0s 114us/step - loss: 0.5672 - acc: 0.6680\n",
      "Epoch 50/150\n",
      "768/768 [==============================] - 0s 116us/step - loss: 0.5632 - acc: 0.6836\n",
      "Epoch 51/150\n",
      "768/768 [==============================] - 0s 114us/step - loss: 0.5591 - acc: 0.6875\n",
      "Epoch 52/150\n",
      "768/768 [==============================] - 0s 119us/step - loss: 0.5591 - acc: 0.6940\n",
      "Epoch 53/150\n",
      "768/768 [==============================] - 0s 117us/step - loss: 0.5565 - acc: 0.7005\n",
      "Epoch 54/150\n",
      "768/768 [==============================] - 0s 114us/step - loss: 0.5514 - acc: 0.7005\n",
      "Epoch 55/150\n",
      "768/768 [==============================] - 0s 116us/step - loss: 0.5523 - acc: 0.6992\n",
      "Epoch 56/150\n",
      "768/768 [==============================] - 0s 111us/step - loss: 0.5518 - acc: 0.7148\n",
      "Epoch 57/150\n",
      "768/768 [==============================] - 0s 111us/step - loss: 0.5464 - acc: 0.7174\n",
      "Epoch 58/150\n",
      "768/768 [==============================] - 0s 109us/step - loss: 0.5443 - acc: 0.7214\n",
      "Epoch 59/150\n",
      "768/768 [==============================] - 0s 110us/step - loss: 0.5476 - acc: 0.7018\n",
      "Epoch 60/150\n",
      "768/768 [==============================] - 0s 109us/step - loss: 0.5493 - acc: 0.6979\n",
      "Epoch 61/150\n",
      "768/768 [==============================] - 0s 105us/step - loss: 0.5490 - acc: 0.7344\n",
      "Epoch 62/150\n",
      "768/768 [==============================] - 0s 111us/step - loss: 0.5477 - acc: 0.7044\n",
      "Epoch 63/150\n",
      "768/768 [==============================] - 0s 112us/step - loss: 0.5407 - acc: 0.7188\n",
      "Epoch 64/150\n",
      "768/768 [==============================] - 0s 108us/step - loss: 0.5483 - acc: 0.7148\n",
      "Epoch 65/150\n",
      "768/768 [==============================] - 0s 110us/step - loss: 0.5446 - acc: 0.7148\n",
      "Epoch 66/150\n",
      "768/768 [==============================] - 0s 112us/step - loss: 0.5453 - acc: 0.7240\n",
      "Epoch 67/150\n",
      "768/768 [==============================] - 0s 120us/step - loss: 0.5423 - acc: 0.7148\n",
      "Epoch 68/150\n",
      "768/768 [==============================] - 0s 106us/step - loss: 0.5519 - acc: 0.7070\n",
      "Epoch 69/150\n",
      "768/768 [==============================] - 0s 104us/step - loss: 0.5494 - acc: 0.7109\n",
      "Epoch 70/150\n",
      "768/768 [==============================] - 0s 121us/step - loss: 0.5459 - acc: 0.7201\n",
      "Epoch 71/150\n",
      "768/768 [==============================] - 0s 101us/step - loss: 0.5346 - acc: 0.7396\n",
      "Epoch 72/150\n",
      "768/768 [==============================] - 0s 116us/step - loss: 0.5348 - acc: 0.7448\n",
      "Epoch 73/150\n",
      "768/768 [==============================] - 0s 111us/step - loss: 0.5297 - acc: 0.7396\n",
      "Epoch 74/150\n",
      "768/768 [==============================] - 0s 113us/step - loss: 0.5331 - acc: 0.7357\n",
      "Epoch 75/150\n",
      "768/768 [==============================] - 0s 113us/step - loss: 0.5255 - acc: 0.7448\n",
      "Epoch 76/150\n",
      "768/768 [==============================] - 0s 107us/step - loss: 0.5147 - acc: 0.7656\n",
      "Epoch 77/150\n",
      "768/768 [==============================] - 0s 108us/step - loss: 0.5267 - acc: 0.7448\n",
      "Epoch 78/150\n",
      "768/768 [==============================] - 0s 113us/step - loss: 0.5229 - acc: 0.7552\n",
      "Epoch 79/150\n",
      "768/768 [==============================] - 0s 119us/step - loss: 0.5139 - acc: 0.7513\n",
      "Epoch 80/150\n",
      "768/768 [==============================] - 0s 119us/step - loss: 0.5218 - acc: 0.7448\n",
      "Epoch 81/150\n",
      "768/768 [==============================] - 0s 103us/step - loss: 0.5115 - acc: 0.7565\n",
      "Epoch 82/150\n",
      "768/768 [==============================] - 0s 113us/step - loss: 0.5170 - acc: 0.7565\n",
      "Epoch 83/150\n",
      "768/768 [==============================] - 0s 115us/step - loss: 0.5183 - acc: 0.7669\n",
      "Epoch 84/150\n",
      "768/768 [==============================] - 0s 108us/step - loss: 0.5106 - acc: 0.7565\n",
      "Epoch 85/150\n",
      "768/768 [==============================] - 0s 103us/step - loss: 0.5245 - acc: 0.7448\n",
      "Epoch 86/150\n",
      "768/768 [==============================] - 0s 107us/step - loss: 0.5155 - acc: 0.7630\n",
      "Epoch 87/150\n",
      "768/768 [==============================] - 0s 103us/step - loss: 0.5072 - acc: 0.7591\n",
      "Epoch 88/150\n",
      "768/768 [==============================] - 0s 115us/step - loss: 0.5163 - acc: 0.7591\n",
      "Epoch 89/150\n",
      "768/768 [==============================] - 0s 117us/step - loss: 0.5153 - acc: 0.7500\n",
      "Epoch 90/150\n",
      "768/768 [==============================] - 0s 116us/step - loss: 0.5123 - acc: 0.7591\n",
      "Epoch 91/150\n",
      "768/768 [==============================] - 0s 101us/step - loss: 0.5184 - acc: 0.7487\n",
      "Epoch 92/150\n",
      "768/768 [==============================] - 0s 108us/step - loss: 0.5140 - acc: 0.7526\n",
      "Epoch 93/150\n",
      "768/768 [==============================] - 0s 106us/step - loss: 0.5128 - acc: 0.7513\n",
      "Epoch 94/150\n",
      "768/768 [==============================] - 0s 111us/step - loss: 0.5113 - acc: 0.7578\n",
      "Epoch 95/150\n",
      "768/768 [==============================] - 0s 102us/step - loss: 0.5115 - acc: 0.7617\n",
      "Epoch 96/150\n",
      "768/768 [==============================] - 0s 112us/step - loss: 0.5198 - acc: 0.7461\n",
      "Epoch 97/150\n",
      "768/768 [==============================] - 0s 101us/step - loss: 0.5087 - acc: 0.7630\n",
      "Epoch 98/150\n",
      "768/768 [==============================] - 0s 111us/step - loss: 0.5102 - acc: 0.7565\n",
      "Epoch 99/150\n",
      "768/768 [==============================] - 0s 100us/step - loss: 0.5082 - acc: 0.7682\n",
      "Epoch 100/150\n",
      "768/768 [==============================] - 0s 107us/step - loss: 0.5088 - acc: 0.7617\n",
      "Epoch 101/150\n",
      "768/768 [==============================] - 0s 106us/step - loss: 0.5112 - acc: 0.7448\n",
      "Epoch 102/150\n",
      "768/768 [==============================] - 0s 109us/step - loss: 0.5139 - acc: 0.7643\n",
      "Epoch 103/150\n",
      "768/768 [==============================] - 0s 120us/step - loss: 0.5173 - acc: 0.7487\n",
      "Epoch 104/150\n",
      "768/768 [==============================] - 0s 118us/step - loss: 0.5077 - acc: 0.7721\n",
      "Epoch 105/150\n",
      "768/768 [==============================] - 0s 107us/step - loss: 0.5082 - acc: 0.7591\n",
      "Epoch 106/150\n",
      "768/768 [==============================] - 0s 107us/step - loss: 0.5066 - acc: 0.7565\n",
      "Epoch 107/150\n",
      "768/768 [==============================] - 0s 108us/step - loss: 0.5121 - acc: 0.7604\n",
      "Epoch 108/150\n",
      "768/768 [==============================] - 0s 104us/step - loss: 0.5137 - acc: 0.7539\n",
      "Epoch 109/150\n",
      "768/768 [==============================] - 0s 106us/step - loss: 0.5114 - acc: 0.7617\n",
      "Epoch 110/150\n",
      "768/768 [==============================] - 0s 113us/step - loss: 0.5133 - acc: 0.7578\n",
      "Epoch 111/150\n",
      "768/768 [==============================] - 0s 106us/step - loss: 0.5057 - acc: 0.7643\n",
      "Epoch 112/150\n",
      "768/768 [==============================] - 0s 111us/step - loss: 0.5061 - acc: 0.7617\n",
      "Epoch 113/150\n",
      "768/768 [==============================] - 0s 104us/step - loss: 0.5043 - acc: 0.7669\n",
      "Epoch 114/150\n",
      "768/768 [==============================] - 0s 121us/step - loss: 0.5098 - acc: 0.7578\n",
      "Epoch 115/150\n",
      "768/768 [==============================] - 0s 112us/step - loss: 0.5078 - acc: 0.7565\n",
      "Epoch 116/150\n",
      "768/768 [==============================] - 0s 102us/step - loss: 0.5040 - acc: 0.7591\n",
      "Epoch 117/150\n",
      "768/768 [==============================] - 0s 103us/step - loss: 0.5121 - acc: 0.7591\n",
      "Epoch 118/150\n",
      "768/768 [==============================] - 0s 110us/step - loss: 0.5060 - acc: 0.7565\n",
      "Epoch 119/150\n",
      "768/768 [==============================] - 0s 101us/step - loss: 0.5077 - acc: 0.7565\n",
      "Epoch 120/150\n",
      "768/768 [==============================] - 0s 113us/step - loss: 0.5123 - acc: 0.7526\n",
      "Epoch 121/150\n",
      "768/768 [==============================] - 0s 125us/step - loss: 0.5098 - acc: 0.7565\n",
      "Epoch 122/150\n",
      "768/768 [==============================] - 0s 95us/step - loss: 0.5036 - acc: 0.7682\n",
      "Epoch 123/150\n",
      "768/768 [==============================] - 0s 106us/step - loss: 0.5056 - acc: 0.7643\n",
      "Epoch 124/150\n",
      "768/768 [==============================] - 0s 117us/step - loss: 0.5026 - acc: 0.7695\n",
      "Epoch 125/150\n",
      "768/768 [==============================] - 0s 115us/step - loss: 0.5030 - acc: 0.7578\n",
      "Epoch 126/150\n",
      "768/768 [==============================] - 0s 134us/step - loss: 0.5018 - acc: 0.7591\n",
      "Epoch 127/150\n",
      "768/768 [==============================] - 0s 105us/step - loss: 0.5053 - acc: 0.7630\n",
      "Epoch 128/150\n",
      "768/768 [==============================] - 0s 115us/step - loss: 0.5044 - acc: 0.7643\n",
      "Epoch 129/150\n",
      "768/768 [==============================] - 0s 107us/step - loss: 0.5017 - acc: 0.7565\n",
      "Epoch 130/150\n",
      "768/768 [==============================] - 0s 117us/step - loss: 0.5042 - acc: 0.7656\n",
      "Epoch 131/150\n",
      "768/768 [==============================] - 0s 93us/step - loss: 0.5055 - acc: 0.7695\n",
      "Epoch 132/150\n",
      "768/768 [==============================] - 0s 112us/step - loss: 0.4944 - acc: 0.7734\n",
      "Epoch 133/150\n",
      "768/768 [==============================] - 0s 111us/step - loss: 0.5259 - acc: 0.7357\n",
      "Epoch 134/150\n",
      "768/768 [==============================] - 0s 107us/step - loss: 0.4966 - acc: 0.7695\n",
      "Epoch 135/150\n",
      "768/768 [==============================] - 0s 112us/step - loss: 0.4967 - acc: 0.7578\n",
      "Epoch 136/150\n",
      "768/768 [==============================] - 0s 101us/step - loss: 0.4984 - acc: 0.7578\n",
      "Epoch 137/150\n",
      "768/768 [==============================] - 0s 110us/step - loss: 0.4980 - acc: 0.7669\n",
      "Epoch 138/150\n",
      "768/768 [==============================] - 0s 121us/step - loss: 0.4955 - acc: 0.7643\n",
      "Epoch 139/150\n",
      "768/768 [==============================] - 0s 113us/step - loss: 0.4972 - acc: 0.7591\n",
      "Epoch 140/150\n",
      "768/768 [==============================] - 0s 115us/step - loss: 0.5073 - acc: 0.7565\n",
      "Epoch 141/150\n",
      "768/768 [==============================] - 0s 97us/step - loss: 0.4989 - acc: 0.7669\n",
      "Epoch 142/150\n",
      "768/768 [==============================] - 0s 116us/step - loss: 0.5010 - acc: 0.7669\n",
      "Epoch 143/150\n",
      "768/768 [==============================] - 0s 112us/step - loss: 0.5016 - acc: 0.7630\n",
      "Epoch 144/150\n",
      "768/768 [==============================] - 0s 108us/step - loss: 0.4992 - acc: 0.7656\n",
      "Epoch 145/150\n",
      "768/768 [==============================] - 0s 112us/step - loss: 0.4967 - acc: 0.7721\n",
      "Epoch 146/150\n",
      "768/768 [==============================] - 0s 116us/step - loss: 0.4933 - acc: 0.7721\n",
      "Epoch 147/150\n",
      "768/768 [==============================] - 0s 111us/step - loss: 0.5018 - acc: 0.7630\n",
      "Epoch 148/150\n",
      "768/768 [==============================] - 0s 110us/step - loss: 0.5028 - acc: 0.7604\n",
      "Epoch 149/150\n",
      "768/768 [==============================] - 0s 114us/step - loss: 0.4852 - acc: 0.7721\n",
      "Epoch 150/150\n",
      "768/768 [==============================] - 0s 119us/step - loss: 0.4991 - acc: 0.7578\n"
     ]
    },
    {
     "data": {
      "text/plain": [
       "<keras.callbacks.History at 0x7f1a2cca1748>"
      ]
     },
     "execution_count": 7,
     "metadata": {},
     "output_type": "execute_result"
    }
   ],
   "source": [
    "model.fit(X, Y, epochs=150, batch_size=10)"
   ]
  },
  {
   "cell_type": "code",
   "execution_count": 8,
   "metadata": {},
   "outputs": [
    {
     "name": "stdout",
     "output_type": "stream",
     "text": [
      "_________________________________________________________________\n",
      "Layer (type)                 Output Shape              Param #   \n",
      "=================================================================\n",
      "dense_1 (Dense)              (None, 16)                144       \n",
      "_________________________________________________________________\n",
      "dense_2 (Dense)              (None, 8)                 136       \n",
      "_________________________________________________________________\n",
      "dense_3 (Dense)              (None, 4)                 36        \n",
      "_________________________________________________________________\n",
      "dense_4 (Dense)              (None, 2)                 10        \n",
      "_________________________________________________________________\n",
      "dense_5 (Dense)              (None, 1)                 3         \n",
      "=================================================================\n",
      "Total params: 329\n",
      "Trainable params: 329\n",
      "Non-trainable params: 0\n",
      "_________________________________________________________________\n"
     ]
    }
   ],
   "source": [
    "model.summary()"
   ]
  },
  {
   "cell_type": "code",
   "execution_count": 9,
   "metadata": {},
   "outputs": [
    {
     "name": "stdout",
     "output_type": "stream",
     "text": [
      "768/768 [==============================] - 0s 59us/step\n",
      "\n",
      "acc: 75.39%\n"
     ]
    }
   ],
   "source": [
    "scores = model.evaluate(X, Y)\n",
    "print(\"\\n%s: %.2f%%\" % (model.metrics_names[1], scores[1]*100))"
   ]
  },
  {
   "cell_type": "code",
   "execution_count": 10,
   "metadata": {},
   "outputs": [
    {
     "name": "stdout",
     "output_type": "stream",
     "text": [
      "[1.0, 0.0, 1.0, 0.0, 1.0, 0.0, 0.0, 1.0, 1.0, 1.0, 0.0, 1.0, 1.0, 1.0, 1.0, 0.0, 0.0, 0.0, 0.0, 0.0]\n"
     ]
    }
   ],
   "source": [
    "# calculate predictions\n",
    "predictions = model.predict(X)\n",
    "# round predictions\n",
    "rounded = [round(x[0]) for x in predictions]\n",
    "print(rounded[:20])"
   ]
  }
 ],
 "metadata": {
  "kernelspec": {
   "display_name": "Python 3",
   "language": "python",
   "name": "python3"
  },
  "language_info": {
   "codemirror_mode": {
    "name": "ipython",
    "version": 3
   },
   "file_extension": ".py",
   "mimetype": "text/x-python",
   "name": "python",
   "nbconvert_exporter": "python",
   "pygments_lexer": "ipython3",
   "version": "3.6.7"
  }
 },
 "nbformat": 4,
 "nbformat_minor": 2
}
